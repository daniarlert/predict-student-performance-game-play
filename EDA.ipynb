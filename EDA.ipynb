{
 "cells": [
  {
   "attachments": {},
   "cell_type": "markdown",
   "metadata": {},
   "source": [
    "# Introduction\n",
    "\n",
    "In this notebook we will explore the data and try to find some insights. We will also try to find some patterns in the data which will help us in feature engineering and model building for later stages."
   ]
  },
  {
   "attachments": {},
   "cell_type": "markdown",
   "metadata": {},
   "source": [
    "# Setup"
   ]
  },
  {
   "cell_type": "code",
   "execution_count": null,
   "metadata": {},
   "outputs": [],
   "source": [
    "%pip install numpy pandas matplotlib seaborn"
   ]
  },
  {
   "cell_type": "code",
   "execution_count": null,
   "metadata": {},
   "outputs": [],
   "source": [
    "# Import libraries\n",
    "import numpy as np\n",
    "import pandas as pd\n",
    "import matplotlib.pyplot as plt\n",
    "import seaborn as sns\n",
    "\n",
    "# Setup matplotlib\n",
    "pd.plotting.register_matplotlib_converters()\n",
    "%matplotlib inline"
   ]
  },
  {
   "cell_type": "code",
   "execution_count": null,
   "metadata": {},
   "outputs": [],
   "source": [
    "# Path to files\n",
    "test_csv_path = \"./data/test.csv\"\n",
    "train_csv_path = \"./data/train.csv\"\n",
    "target_labels_csv = \"./data/train_labels.csv\"\n",
    "\n",
    "sample_submission_csv = \"./data/sample_submission.csv\""
   ]
  },
  {
   "attachments": {},
   "cell_type": "markdown",
   "metadata": {},
   "source": [
    "# Data Loading"
   ]
  },
  {
   "cell_type": "code",
   "execution_count": null,
   "metadata": {},
   "outputs": [],
   "source": [
    "level_group_cat_type = pd.CategoricalDtype(\n",
    "    categories=[\"0-4\", \"5-12\", \"13-22\"], ordered=True\n",
    ")"
   ]
  },
  {
   "cell_type": "code",
   "execution_count": null,
   "metadata": {},
   "outputs": [],
   "source": [
    "train_df = pd.read_csv(\n",
    "    train_csv_path,\n",
    "    index_col=\"index\",\n",
    "    dtype={\n",
    "        \"session_id\": \"int64\",\n",
    "        \"elapsed_time\": \"int32\",\n",
    "        \"event_name\": \"category\",\n",
    "        \"name\": \"category\",\n",
    "        \"level\": \"int8\",\n",
    "        \"page\": \"Int8\",\n",
    "        \"room_coor_x\": \"float32\",\n",
    "        \"room_coor_y\": \"float32\",\n",
    "        \"screen_coor_x\": \"float32\",\n",
    "        \"screen_coor_y\": \"float32\",\n",
    "        \"hover_duration\": \"float32\",\n",
    "        \"text\": \"str\",\n",
    "        \"fqid\": \"category\",\n",
    "        \"room_fqid\": \"category\",\n",
    "        \"text_fqid\": \"category\",\n",
    "        \"fullscreen\": \"int8\",\n",
    "        \"hq\": \"int8\",\n",
    "        \"music\": \"int8\",\n",
    "        \"level_group\": level_group_cat_type,\n",
    "    },\n",
    ")"
   ]
  },
  {
   "cell_type": "code",
   "execution_count": null,
   "metadata": {},
   "outputs": [],
   "source": [
    "target_df = pd.read_csv(target_labels_csv)"
   ]
  },
  {
   "cell_type": "code",
   "execution_count": null,
   "metadata": {},
   "outputs": [],
   "source": [
    "target_df[[\"session_id\", \"question_number\"]] = target_df[\"session_id\"].str.split(\n",
    "    \"_\", expand=True\n",
    ")"
   ]
  },
  {
   "cell_type": "code",
   "execution_count": null,
   "metadata": {},
   "outputs": [],
   "source": [
    "# Get the question number as int\n",
    "target_df[\"question_number\"] = (\n",
    "    target_df[\"question_number\"].str.extract(\"(\\d+)\").astype(\"int8\")\n",
    ")"
   ]
  },
  {
   "attachments": {},
   "cell_type": "markdown",
   "metadata": {},
   "source": [
    "Its not necessary, but we are going to convert the correct column to a boolean type."
   ]
  },
  {
   "cell_type": "code",
   "execution_count": null,
   "metadata": {},
   "outputs": [],
   "source": [
    "target_df[\"correct\"] = target_df[\"correct\"].astype(\"bool\")"
   ]
  },
  {
   "attachments": {},
   "cell_type": "markdown",
   "metadata": {},
   "source": [
    "# EDA"
   ]
  },
  {
   "cell_type": "code",
   "execution_count": null,
   "metadata": {},
   "outputs": [],
   "source": [
    "# Check number of nan values in each column\n",
    "train_df.isna().sum()"
   ]
  },
  {
   "cell_type": "code",
   "execution_count": null,
   "metadata": {},
   "outputs": [],
   "source": [
    "# Plot frequency of nan values in each column\n",
    "plt.figure(figsize=(12, 8))\n",
    "\n",
    "sns.barplot(\n",
    "    x=train_df.isna().sum().index,\n",
    "    y=train_df.isna().sum().values,\n",
    "    order=train_df.isna().sum().sort_values(ascending=False).index,\n",
    "    palette=\"mako\",\n",
    ")\n",
    "\n",
    "plt.xticks(rotation=90)\n",
    "\n",
    "plt.show()"
   ]
  },
  {
   "attachments": {},
   "cell_type": "markdown",
   "metadata": {},
   "source": [
    "As we can see, some columns like `page`, `hover_duration`, `text` and `text_fquid` have a lot of missing values. We'll see later how to deal with this and if this is a problem or not."
   ]
  },
  {
   "cell_type": "code",
   "execution_count": null,
   "metadata": {},
   "outputs": [],
   "source": [
    "# Plot number of correct answers per question\n",
    "plt.figure(figsize=(12, 8))\n",
    "\n",
    "sns.countplot(x=\"question_number\", hue=\"correct\", data=target_df, palette=\"mako\")\n",
    "\n",
    "plt.xlabel(\"Question number\")\n",
    "plt.ylabel(\"Answers\")\n",
    "\n",
    "plt.title(\"Number of correct answers per question number\")\n",
    "\n",
    "plt.show()"
   ]
  },
  {
   "cell_type": "code",
   "execution_count": null,
   "metadata": {},
   "outputs": [],
   "source": [
    "# Plot number of events by session\n",
    "plt.figure(figsize=(12, 8))\n",
    "\n",
    "sns.histplot(\n",
    "    x=train_df[\"session_id\"].value_counts(),\n",
    "    data=train_df,\n",
    "    kde=True,\n",
    "    color=sns.color_palette(\"mako\")[0],\n",
    ")\n",
    "\n",
    "plt.xlabel(\"Number of events per session\")\n",
    "plt.ylabel(\"Events\")\n",
    "plt.xlim(500, 2500)\n",
    "\n",
    "plt.title(\"Number of events by session\")\n",
    "plt.show()"
   ]
  },
  {
   "cell_type": "code",
   "execution_count": null,
   "metadata": {},
   "outputs": [],
   "source": [
    "# Average number of events per session\n",
    "train_df[\"session_id\"].value_counts().mean()"
   ]
  },
  {
   "cell_type": "code",
   "execution_count": null,
   "metadata": {},
   "outputs": [],
   "source": [
    "train_df[\"elapsed_time\"].describe()"
   ]
  },
  {
   "cell_type": "code",
   "execution_count": null,
   "metadata": {},
   "outputs": [],
   "source": [
    "# Create a new Series with the elapsed time in hours\n",
    "elapsed_time_hours = train_df[\"elapsed_time\"] / 3600  # group by user_id\n",
    "\n",
    "# Plot the elapsed time in hours\n",
    "plt.figure(figsize=(12, 8))\n",
    "\n",
    "sns.histplot(\n",
    "    x=elapsed_time_hours,\n",
    "    data=train_df,\n",
    "    kde=True,\n",
    "    color=sns.color_palette(\"mako\")[0],\n",
    ")\n",
    "\n",
    "plt.show()"
   ]
  },
  {
   "cell_type": "code",
   "execution_count": null,
   "metadata": {},
   "outputs": [],
   "source": [
    "# Plot frequency of events\n",
    "plt.figure(figsize=(12, 8))\n",
    "\n",
    "sns.countplot(\n",
    "    y=\"event_name\",\n",
    "    data=train_df,\n",
    "    order=train_df[\"event_name\"].value_counts().index,\n",
    "    palette=\"mako\",\n",
    ")\n",
    "\n",
    "plt.show()"
   ]
  },
  {
   "cell_type": "code",
   "execution_count": null,
   "metadata": {},
   "outputs": [],
   "source": [
    "# Number of events per level_group\n",
    "counts = train_df[\"level_group\"].value_counts().sort_index()\n",
    "counts"
   ]
  },
  {
   "cell_type": "code",
   "execution_count": null,
   "metadata": {},
   "outputs": [],
   "source": [
    "# Plot number of events per level_group\n",
    "plt.figure(figsize=(12, 8))\n",
    "\n",
    "sns.barplot(x=counts.index, y=counts.values, palette=\"mako\")\n",
    "\n",
    "plt.yticks(counts.values, counts.values)\n",
    "\n",
    "plt.show()"
   ]
  },
  {
   "cell_type": "code",
   "execution_count": null,
   "metadata": {},
   "outputs": [],
   "source": [
    "# Plot number of events per level\n",
    "plt.figure(figsize=(12, 8))\n",
    "\n",
    "sns.barplot(\n",
    "    x=counts.index,\n",
    "    y=counts.values,\n",
    "    palette=\"mako\",\n",
    ")"
   ]
  }
 ],
 "metadata": {
  "kernelspec": {
   "display_name": ".venv",
   "language": "python",
   "name": "python3"
  },
  "language_info": {
   "codemirror_mode": {
    "name": "ipython",
    "version": 3
   },
   "file_extension": ".py",
   "mimetype": "text/x-python",
   "name": "python",
   "nbconvert_exporter": "python",
   "pygments_lexer": "ipython3",
   "version": "3.11.1"
  },
  "orig_nbformat": 4
 },
 "nbformat": 4,
 "nbformat_minor": 2
}
