{
 "cells": [
  {
   "attachments": {},
   "cell_type": "markdown",
   "metadata": {},
   "source": [
    "# Introduction"
   ]
  },
  {
   "attachments": {},
   "cell_type": "markdown",
   "metadata": {},
   "source": [
    "# Competition's Description\n",
    "\n",
    "The goal of this [competition](https://www.kaggle.com/competitions/predict-student-performance-from-game-play/overview) is to predict student performance during a game-based learning in real-time. In this notebook we'll develop a model trained on one of the largest open datasets of game logs to try to predict student performance."
   ]
  },
  {
   "attachments": {},
   "cell_type": "markdown",
   "metadata": {},
   "source": [
    "# Setup"
   ]
  },
  {
   "cell_type": "code",
   "execution_count": 96,
   "metadata": {},
   "outputs": [
    {
     "name": "stdout",
     "output_type": "stream",
     "text": [
      "Requirement already satisfied: numpy in ./.venv/lib/python3.11/site-packages (1.24.2)\n",
      "Requirement already satisfied: pandas in ./.venv/lib/python3.11/site-packages (2.0.0)\n",
      "Requirement already satisfied: matplotlib in ./.venv/lib/python3.11/site-packages (3.7.1)\n",
      "Requirement already satisfied: seaborn in ./.venv/lib/python3.11/site-packages (0.12.2)\n",
      "Requirement already satisfied: sklearn in ./.venv/lib/python3.11/site-packages (0.0.post1)\n",
      "Requirement already satisfied: python-dateutil>=2.8.2 in ./.venv/lib/python3.11/site-packages (from pandas) (2.8.2)\n",
      "Requirement already satisfied: pytz>=2020.1 in ./.venv/lib/python3.11/site-packages (from pandas) (2023.3)\n",
      "Requirement already satisfied: tzdata>=2022.1 in ./.venv/lib/python3.11/site-packages (from pandas) (2023.3)\n",
      "Requirement already satisfied: contourpy>=1.0.1 in ./.venv/lib/python3.11/site-packages (from matplotlib) (1.0.7)\n",
      "Requirement already satisfied: cycler>=0.10 in ./.venv/lib/python3.11/site-packages (from matplotlib) (0.11.0)\n",
      "Requirement already satisfied: fonttools>=4.22.0 in ./.venv/lib/python3.11/site-packages (from matplotlib) (4.39.3)\n",
      "Requirement already satisfied: kiwisolver>=1.0.1 in ./.venv/lib/python3.11/site-packages (from matplotlib) (1.4.4)\n",
      "Requirement already satisfied: packaging>=20.0 in ./.venv/lib/python3.11/site-packages (from matplotlib) (23.1)\n",
      "Requirement already satisfied: pillow>=6.2.0 in ./.venv/lib/python3.11/site-packages (from matplotlib) (9.5.0)\n",
      "Requirement already satisfied: pyparsing>=2.3.1 in ./.venv/lib/python3.11/site-packages (from matplotlib) (3.0.9)\n",
      "Requirement already satisfied: six>=1.5 in ./.venv/lib/python3.11/site-packages (from python-dateutil>=2.8.2->pandas) (1.16.0)\n",
      "Note: you may need to restart the kernel to use updated packages.\n"
     ]
    }
   ],
   "source": [
    "%pip install numpy pandas matplotlib seaborn sklearn"
   ]
  },
  {
   "cell_type": "code",
   "execution_count": 97,
   "metadata": {},
   "outputs": [],
   "source": [
    "# Import libraries\n",
    "import numpy as np\n",
    "import pandas as pd\n",
    "import matplotlib.pyplot as plt\n",
    "import seaborn as sns\n",
    "\n",
    "# Setup matplotlib\n",
    "pd.plotting.register_matplotlib_converters()\n",
    "%matplotlib inline"
   ]
  },
  {
   "cell_type": "code",
   "execution_count": 98,
   "metadata": {},
   "outputs": [],
   "source": [
    "# Path to files\n",
    "test_csv_path = \"./data/test.csv\"\n",
    "train_csv_path = \"./data/train.csv\"\n",
    "train_labels_csv = \"./data/train_labels.csv\"\n",
    "\n",
    "sample_submission_csv = \"./data/sample_submission.csv\""
   ]
  },
  {
   "attachments": {},
   "cell_type": "markdown",
   "metadata": {},
   "source": [
    "To see what does each column is in each dataset, you can find the data dictionary [here](https://www.kaggle.com/c/predict-student-performance-from-game-play/data)."
   ]
  },
  {
   "attachments": {},
   "cell_type": "markdown",
   "metadata": {},
   "source": [
    "Since the train dataset is quite large, we'll start by loading only a subset of it. This will allow us to explore the data and perform some basic analysis and feature engineering more quickly."
   ]
  },
  {
   "cell_type": "code",
   "execution_count": 99,
   "metadata": {},
   "outputs": [
    {
     "data": {
      "text/html": [
       "<div>\n",
       "<style scoped>\n",
       "    .dataframe tbody tr th:only-of-type {\n",
       "        vertical-align: middle;\n",
       "    }\n",
       "\n",
       "    .dataframe tbody tr th {\n",
       "        vertical-align: top;\n",
       "    }\n",
       "\n",
       "    .dataframe thead th {\n",
       "        text-align: right;\n",
       "    }\n",
       "</style>\n",
       "<table border=\"1\" class=\"dataframe\">\n",
       "  <thead>\n",
       "    <tr style=\"text-align: right;\">\n",
       "      <th></th>\n",
       "      <th>session_id</th>\n",
       "      <th>elapsed_time</th>\n",
       "      <th>event_name</th>\n",
       "      <th>name</th>\n",
       "      <th>level</th>\n",
       "      <th>page</th>\n",
       "      <th>room_coor_x</th>\n",
       "      <th>room_coor_y</th>\n",
       "      <th>screen_coor_x</th>\n",
       "      <th>screen_coor_y</th>\n",
       "      <th>hover_duration</th>\n",
       "      <th>text</th>\n",
       "      <th>fqid</th>\n",
       "      <th>room_fqid</th>\n",
       "      <th>text_fqid</th>\n",
       "      <th>fullscreen</th>\n",
       "      <th>hq</th>\n",
       "      <th>music</th>\n",
       "      <th>level_group</th>\n",
       "    </tr>\n",
       "    <tr>\n",
       "      <th>index</th>\n",
       "      <th></th>\n",
       "      <th></th>\n",
       "      <th></th>\n",
       "      <th></th>\n",
       "      <th></th>\n",
       "      <th></th>\n",
       "      <th></th>\n",
       "      <th></th>\n",
       "      <th></th>\n",
       "      <th></th>\n",
       "      <th></th>\n",
       "      <th></th>\n",
       "      <th></th>\n",
       "      <th></th>\n",
       "      <th></th>\n",
       "      <th></th>\n",
       "      <th></th>\n",
       "      <th></th>\n",
       "      <th></th>\n",
       "    </tr>\n",
       "  </thead>\n",
       "  <tbody>\n",
       "    <tr>\n",
       "      <th>0</th>\n",
       "      <td>20090312431273200</td>\n",
       "      <td>0</td>\n",
       "      <td>cutscene_click</td>\n",
       "      <td>basic</td>\n",
       "      <td>0</td>\n",
       "      <td>NaN</td>\n",
       "      <td>-413.991405</td>\n",
       "      <td>-159.314686</td>\n",
       "      <td>380.0</td>\n",
       "      <td>494.0</td>\n",
       "      <td>NaN</td>\n",
       "      <td>undefined</td>\n",
       "      <td>intro</td>\n",
       "      <td>tunic.historicalsociety.closet</td>\n",
       "      <td>tunic.historicalsociety.closet.intro</td>\n",
       "      <td>0</td>\n",
       "      <td>0</td>\n",
       "      <td>1</td>\n",
       "      <td>0-4</td>\n",
       "    </tr>\n",
       "    <tr>\n",
       "      <th>1</th>\n",
       "      <td>20090312431273200</td>\n",
       "      <td>1323</td>\n",
       "      <td>person_click</td>\n",
       "      <td>basic</td>\n",
       "      <td>0</td>\n",
       "      <td>NaN</td>\n",
       "      <td>-413.991405</td>\n",
       "      <td>-159.314686</td>\n",
       "      <td>380.0</td>\n",
       "      <td>494.0</td>\n",
       "      <td>NaN</td>\n",
       "      <td>Whatcha doing over there, Jo?</td>\n",
       "      <td>gramps</td>\n",
       "      <td>tunic.historicalsociety.closet</td>\n",
       "      <td>tunic.historicalsociety.closet.gramps.intro_0_...</td>\n",
       "      <td>0</td>\n",
       "      <td>0</td>\n",
       "      <td>1</td>\n",
       "      <td>0-4</td>\n",
       "    </tr>\n",
       "    <tr>\n",
       "      <th>2</th>\n",
       "      <td>20090312431273200</td>\n",
       "      <td>831</td>\n",
       "      <td>person_click</td>\n",
       "      <td>basic</td>\n",
       "      <td>0</td>\n",
       "      <td>NaN</td>\n",
       "      <td>-413.991405</td>\n",
       "      <td>-159.314686</td>\n",
       "      <td>380.0</td>\n",
       "      <td>494.0</td>\n",
       "      <td>NaN</td>\n",
       "      <td>Just talking to Teddy.</td>\n",
       "      <td>gramps</td>\n",
       "      <td>tunic.historicalsociety.closet</td>\n",
       "      <td>tunic.historicalsociety.closet.gramps.intro_0_...</td>\n",
       "      <td>0</td>\n",
       "      <td>0</td>\n",
       "      <td>1</td>\n",
       "      <td>0-4</td>\n",
       "    </tr>\n",
       "    <tr>\n",
       "      <th>3</th>\n",
       "      <td>20090312431273200</td>\n",
       "      <td>1147</td>\n",
       "      <td>person_click</td>\n",
       "      <td>basic</td>\n",
       "      <td>0</td>\n",
       "      <td>NaN</td>\n",
       "      <td>-413.991405</td>\n",
       "      <td>-159.314686</td>\n",
       "      <td>380.0</td>\n",
       "      <td>494.0</td>\n",
       "      <td>NaN</td>\n",
       "      <td>I gotta run to my meeting!</td>\n",
       "      <td>gramps</td>\n",
       "      <td>tunic.historicalsociety.closet</td>\n",
       "      <td>tunic.historicalsociety.closet.gramps.intro_0_...</td>\n",
       "      <td>0</td>\n",
       "      <td>0</td>\n",
       "      <td>1</td>\n",
       "      <td>0-4</td>\n",
       "    </tr>\n",
       "    <tr>\n",
       "      <th>4</th>\n",
       "      <td>20090312431273200</td>\n",
       "      <td>1863</td>\n",
       "      <td>person_click</td>\n",
       "      <td>basic</td>\n",
       "      <td>0</td>\n",
       "      <td>NaN</td>\n",
       "      <td>-412.991405</td>\n",
       "      <td>-159.314686</td>\n",
       "      <td>381.0</td>\n",
       "      <td>494.0</td>\n",
       "      <td>NaN</td>\n",
       "      <td>Can I come, Gramps?</td>\n",
       "      <td>gramps</td>\n",
       "      <td>tunic.historicalsociety.closet</td>\n",
       "      <td>tunic.historicalsociety.closet.gramps.intro_0_...</td>\n",
       "      <td>0</td>\n",
       "      <td>0</td>\n",
       "      <td>1</td>\n",
       "      <td>0-4</td>\n",
       "    </tr>\n",
       "  </tbody>\n",
       "</table>\n",
       "</div>"
      ],
      "text/plain": [
       "              session_id  elapsed_time      event_name   name  level  page   \n",
       "index                                                                        \n",
       "0      20090312431273200             0  cutscene_click  basic      0   NaN  \\\n",
       "1      20090312431273200          1323    person_click  basic      0   NaN   \n",
       "2      20090312431273200           831    person_click  basic      0   NaN   \n",
       "3      20090312431273200          1147    person_click  basic      0   NaN   \n",
       "4      20090312431273200          1863    person_click  basic      0   NaN   \n",
       "\n",
       "       room_coor_x  room_coor_y  screen_coor_x  screen_coor_y  hover_duration   \n",
       "index                                                                           \n",
       "0      -413.991405  -159.314686          380.0          494.0             NaN  \\\n",
       "1      -413.991405  -159.314686          380.0          494.0             NaN   \n",
       "2      -413.991405  -159.314686          380.0          494.0             NaN   \n",
       "3      -413.991405  -159.314686          380.0          494.0             NaN   \n",
       "4      -412.991405  -159.314686          381.0          494.0             NaN   \n",
       "\n",
       "                                text    fqid                       room_fqid   \n",
       "index                                                                          \n",
       "0                          undefined   intro  tunic.historicalsociety.closet  \\\n",
       "1      Whatcha doing over there, Jo?  gramps  tunic.historicalsociety.closet   \n",
       "2             Just talking to Teddy.  gramps  tunic.historicalsociety.closet   \n",
       "3         I gotta run to my meeting!  gramps  tunic.historicalsociety.closet   \n",
       "4                Can I come, Gramps?  gramps  tunic.historicalsociety.closet   \n",
       "\n",
       "                                               text_fqid  fullscreen  hq   \n",
       "index                                                                      \n",
       "0                   tunic.historicalsociety.closet.intro           0   0  \\\n",
       "1      tunic.historicalsociety.closet.gramps.intro_0_...           0   0   \n",
       "2      tunic.historicalsociety.closet.gramps.intro_0_...           0   0   \n",
       "3      tunic.historicalsociety.closet.gramps.intro_0_...           0   0   \n",
       "4      tunic.historicalsociety.closet.gramps.intro_0_...           0   0   \n",
       "\n",
       "       music level_group  \n",
       "index                     \n",
       "0          1         0-4  \n",
       "1          1         0-4  \n",
       "2          1         0-4  \n",
       "3          1         0-4  \n",
       "4          1         0-4  "
      ]
     },
     "execution_count": 99,
     "metadata": {},
     "output_type": "execute_result"
    }
   ],
   "source": [
    "# Read train dataset\n",
    "train_df = pd.read_csv(train_csv_path, index_col=\"index\", nrows=10_000)\n",
    "train_df.head()"
   ]
  },
  {
   "cell_type": "code",
   "execution_count": 100,
   "metadata": {},
   "outputs": [
    {
     "data": {
      "text/html": [
       "<div>\n",
       "<style scoped>\n",
       "    .dataframe tbody tr th:only-of-type {\n",
       "        vertical-align: middle;\n",
       "    }\n",
       "\n",
       "    .dataframe tbody tr th {\n",
       "        vertical-align: top;\n",
       "    }\n",
       "\n",
       "    .dataframe thead th {\n",
       "        text-align: right;\n",
       "    }\n",
       "</style>\n",
       "<table border=\"1\" class=\"dataframe\">\n",
       "  <thead>\n",
       "    <tr style=\"text-align: right;\">\n",
       "      <th></th>\n",
       "      <th>session_id</th>\n",
       "      <th>correct</th>\n",
       "    </tr>\n",
       "  </thead>\n",
       "  <tbody>\n",
       "    <tr>\n",
       "      <th>0</th>\n",
       "      <td>20090312431273200_q1</td>\n",
       "      <td>1</td>\n",
       "    </tr>\n",
       "    <tr>\n",
       "      <th>1</th>\n",
       "      <td>20090312433251036_q1</td>\n",
       "      <td>0</td>\n",
       "    </tr>\n",
       "    <tr>\n",
       "      <th>2</th>\n",
       "      <td>20090312455206810_q1</td>\n",
       "      <td>1</td>\n",
       "    </tr>\n",
       "    <tr>\n",
       "      <th>3</th>\n",
       "      <td>20090313091715820_q1</td>\n",
       "      <td>0</td>\n",
       "    </tr>\n",
       "    <tr>\n",
       "      <th>4</th>\n",
       "      <td>20090313571836404_q1</td>\n",
       "      <td>1</td>\n",
       "    </tr>\n",
       "  </tbody>\n",
       "</table>\n",
       "</div>"
      ],
      "text/plain": [
       "             session_id  correct\n",
       "0  20090312431273200_q1        1\n",
       "1  20090312433251036_q1        0\n",
       "2  20090312455206810_q1        1\n",
       "3  20090313091715820_q1        0\n",
       "4  20090313571836404_q1        1"
      ]
     },
     "execution_count": 100,
     "metadata": {},
     "output_type": "execute_result"
    }
   ],
   "source": [
    "# Read train labels dataset\n",
    "labels_df = pd.read_csv(train_labels_csv)\n",
    "labels_df.head()"
   ]
  },
  {
   "cell_type": "code",
   "execution_count": 101,
   "metadata": {},
   "outputs": [
    {
     "data": {
      "text/html": [
       "<div>\n",
       "<style scoped>\n",
       "    .dataframe tbody tr th:only-of-type {\n",
       "        vertical-align: middle;\n",
       "    }\n",
       "\n",
       "    .dataframe tbody tr th {\n",
       "        vertical-align: top;\n",
       "    }\n",
       "\n",
       "    .dataframe thead th {\n",
       "        text-align: right;\n",
       "    }\n",
       "</style>\n",
       "<table border=\"1\" class=\"dataframe\">\n",
       "  <thead>\n",
       "    <tr style=\"text-align: right;\">\n",
       "      <th></th>\n",
       "      <th>session_id</th>\n",
       "      <th>elapsed_time</th>\n",
       "      <th>event_name</th>\n",
       "      <th>name</th>\n",
       "      <th>level</th>\n",
       "      <th>page</th>\n",
       "      <th>room_coor_x</th>\n",
       "      <th>room_coor_y</th>\n",
       "      <th>screen_coor_x</th>\n",
       "      <th>screen_coor_y</th>\n",
       "      <th>hover_duration</th>\n",
       "      <th>text</th>\n",
       "      <th>fqid</th>\n",
       "      <th>room_fqid</th>\n",
       "      <th>text_fqid</th>\n",
       "      <th>fullscreen</th>\n",
       "      <th>hq</th>\n",
       "      <th>music</th>\n",
       "      <th>level_group</th>\n",
       "      <th>session_level</th>\n",
       "    </tr>\n",
       "    <tr>\n",
       "      <th>index</th>\n",
       "      <th></th>\n",
       "      <th></th>\n",
       "      <th></th>\n",
       "      <th></th>\n",
       "      <th></th>\n",
       "      <th></th>\n",
       "      <th></th>\n",
       "      <th></th>\n",
       "      <th></th>\n",
       "      <th></th>\n",
       "      <th></th>\n",
       "      <th></th>\n",
       "      <th></th>\n",
       "      <th></th>\n",
       "      <th></th>\n",
       "      <th></th>\n",
       "      <th></th>\n",
       "      <th></th>\n",
       "      <th></th>\n",
       "      <th></th>\n",
       "    </tr>\n",
       "  </thead>\n",
       "  <tbody>\n",
       "    <tr>\n",
       "      <th>0</th>\n",
       "      <td>20090109393214576</td>\n",
       "      <td>0</td>\n",
       "      <td>cutscene_click</td>\n",
       "      <td>basic</td>\n",
       "      <td>0</td>\n",
       "      <td>NaN</td>\n",
       "      <td>-413.991405</td>\n",
       "      <td>75.685314</td>\n",
       "      <td>380.0</td>\n",
       "      <td>259.0</td>\n",
       "      <td>NaN</td>\n",
       "      <td>undefined</td>\n",
       "      <td>intro</td>\n",
       "      <td>tunic.historicalsociety.closet</td>\n",
       "      <td>tunic.historicalsociety.closet.intro</td>\n",
       "      <td>0</td>\n",
       "      <td>0</td>\n",
       "      <td>1</td>\n",
       "      <td>0-4</td>\n",
       "      <td>0</td>\n",
       "    </tr>\n",
       "    <tr>\n",
       "      <th>1</th>\n",
       "      <td>20090109393214576</td>\n",
       "      <td>1965</td>\n",
       "      <td>person_click</td>\n",
       "      <td>basic</td>\n",
       "      <td>0</td>\n",
       "      <td>NaN</td>\n",
       "      <td>-105.991405</td>\n",
       "      <td>-63.314686</td>\n",
       "      <td>688.0</td>\n",
       "      <td>398.0</td>\n",
       "      <td>NaN</td>\n",
       "      <td>Whatcha doing over there, Jo?</td>\n",
       "      <td>gramps</td>\n",
       "      <td>tunic.historicalsociety.closet</td>\n",
       "      <td>tunic.historicalsociety.closet.gramps.intro_0_...</td>\n",
       "      <td>0</td>\n",
       "      <td>0</td>\n",
       "      <td>1</td>\n",
       "      <td>0-4</td>\n",
       "      <td>0</td>\n",
       "    </tr>\n",
       "    <tr>\n",
       "      <th>2</th>\n",
       "      <td>20090109393214576</td>\n",
       "      <td>3614</td>\n",
       "      <td>person_click</td>\n",
       "      <td>basic</td>\n",
       "      <td>0</td>\n",
       "      <td>NaN</td>\n",
       "      <td>-418.991405</td>\n",
       "      <td>47.685314</td>\n",
       "      <td>375.0</td>\n",
       "      <td>287.0</td>\n",
       "      <td>NaN</td>\n",
       "      <td>Just talking to Teddy.</td>\n",
       "      <td>gramps</td>\n",
       "      <td>tunic.historicalsociety.closet</td>\n",
       "      <td>tunic.historicalsociety.closet.gramps.intro_0_...</td>\n",
       "      <td>0</td>\n",
       "      <td>0</td>\n",
       "      <td>1</td>\n",
       "      <td>0-4</td>\n",
       "      <td>0</td>\n",
       "    </tr>\n",
       "    <tr>\n",
       "      <th>3</th>\n",
       "      <td>20090109393214576</td>\n",
       "      <td>5330</td>\n",
       "      <td>person_click</td>\n",
       "      <td>basic</td>\n",
       "      <td>0</td>\n",
       "      <td>NaN</td>\n",
       "      <td>-110.991405</td>\n",
       "      <td>-57.314686</td>\n",
       "      <td>683.0</td>\n",
       "      <td>392.0</td>\n",
       "      <td>NaN</td>\n",
       "      <td>I gotta run to my meeting!</td>\n",
       "      <td>gramps</td>\n",
       "      <td>tunic.historicalsociety.closet</td>\n",
       "      <td>tunic.historicalsociety.closet.gramps.intro_0_...</td>\n",
       "      <td>0</td>\n",
       "      <td>0</td>\n",
       "      <td>1</td>\n",
       "      <td>0-4</td>\n",
       "      <td>0</td>\n",
       "    </tr>\n",
       "    <tr>\n",
       "      <th>4</th>\n",
       "      <td>20090109393214576</td>\n",
       "      <td>6397</td>\n",
       "      <td>person_click</td>\n",
       "      <td>basic</td>\n",
       "      <td>0</td>\n",
       "      <td>NaN</td>\n",
       "      <td>-110.991405</td>\n",
       "      <td>-57.314686</td>\n",
       "      <td>683.0</td>\n",
       "      <td>392.0</td>\n",
       "      <td>NaN</td>\n",
       "      <td>Can I come, Gramps?</td>\n",
       "      <td>gramps</td>\n",
       "      <td>tunic.historicalsociety.closet</td>\n",
       "      <td>tunic.historicalsociety.closet.gramps.intro_0_...</td>\n",
       "      <td>0</td>\n",
       "      <td>0</td>\n",
       "      <td>1</td>\n",
       "      <td>0-4</td>\n",
       "      <td>0</td>\n",
       "    </tr>\n",
       "  </tbody>\n",
       "</table>\n",
       "</div>"
      ],
      "text/plain": [
       "              session_id  elapsed_time      event_name   name  level  page   \n",
       "index                                                                        \n",
       "0      20090109393214576             0  cutscene_click  basic      0   NaN  \\\n",
       "1      20090109393214576          1965    person_click  basic      0   NaN   \n",
       "2      20090109393214576          3614    person_click  basic      0   NaN   \n",
       "3      20090109393214576          5330    person_click  basic      0   NaN   \n",
       "4      20090109393214576          6397    person_click  basic      0   NaN   \n",
       "\n",
       "       room_coor_x  room_coor_y  screen_coor_x  screen_coor_y  hover_duration   \n",
       "index                                                                           \n",
       "0      -413.991405    75.685314          380.0          259.0             NaN  \\\n",
       "1      -105.991405   -63.314686          688.0          398.0             NaN   \n",
       "2      -418.991405    47.685314          375.0          287.0             NaN   \n",
       "3      -110.991405   -57.314686          683.0          392.0             NaN   \n",
       "4      -110.991405   -57.314686          683.0          392.0             NaN   \n",
       "\n",
       "                                text    fqid                       room_fqid   \n",
       "index                                                                          \n",
       "0                          undefined   intro  tunic.historicalsociety.closet  \\\n",
       "1      Whatcha doing over there, Jo?  gramps  tunic.historicalsociety.closet   \n",
       "2             Just talking to Teddy.  gramps  tunic.historicalsociety.closet   \n",
       "3         I gotta run to my meeting!  gramps  tunic.historicalsociety.closet   \n",
       "4                Can I come, Gramps?  gramps  tunic.historicalsociety.closet   \n",
       "\n",
       "                                               text_fqid  fullscreen  hq   \n",
       "index                                                                      \n",
       "0                   tunic.historicalsociety.closet.intro           0   0  \\\n",
       "1      tunic.historicalsociety.closet.gramps.intro_0_...           0   0   \n",
       "2      tunic.historicalsociety.closet.gramps.intro_0_...           0   0   \n",
       "3      tunic.historicalsociety.closet.gramps.intro_0_...           0   0   \n",
       "4      tunic.historicalsociety.closet.gramps.intro_0_...           0   0   \n",
       "\n",
       "       music level_group  session_level  \n",
       "index                                    \n",
       "0          1         0-4              0  \n",
       "1          1         0-4              0  \n",
       "2          1         0-4              0  \n",
       "3          1         0-4              0  \n",
       "4          1         0-4              0  "
      ]
     },
     "execution_count": 101,
     "metadata": {},
     "output_type": "execute_result"
    }
   ],
   "source": [
    "# Read test dataset\n",
    "test_df = pd.read_csv(test_csv_path, index_col=\"index\")\n",
    "test_df.head()"
   ]
  },
  {
   "attachments": {},
   "cell_type": "markdown",
   "metadata": {},
   "source": [
    "# Memory optimization\n",
    "\n",
    "We'll start by optimizing the memory usage of the dataset. This is due to the fact that the dataset is not only quite large but also because in the competition is specified that the memory consumption and efficiency of the model is a key factor. We also think that this is a good practice to follow in general."
   ]
  },
  {
   "cell_type": "code",
   "execution_count": 102,
   "metadata": {},
   "outputs": [
    {
     "data": {
      "text/plain": [
       "(10000, 19)"
      ]
     },
     "execution_count": 102,
     "metadata": {},
     "output_type": "execute_result"
    }
   ],
   "source": [
    "# Check the shape of the train dataset\n",
    "train_df.shape"
   ]
  },
  {
   "cell_type": "code",
   "execution_count": 103,
   "metadata": {},
   "outputs": [
    {
     "data": {
      "text/plain": [
       "Index              80000\n",
       "session_id         80000\n",
       "elapsed_time       80000\n",
       "event_name        700443\n",
       "name              638871\n",
       "level              80000\n",
       "page               80000\n",
       "room_coor_x        80000\n",
       "room_coor_y        80000\n",
       "screen_coor_x      80000\n",
       "screen_coor_y      80000\n",
       "hover_duration     80000\n",
       "text              525518\n",
       "fqid              567025\n",
       "room_fqid         847275\n",
       "text_fqid         569413\n",
       "fullscreen         80000\n",
       "hq                 80000\n",
       "music              80000\n",
       "level_group       614050\n",
       "dtype: int64"
      ]
     },
     "execution_count": 103,
     "metadata": {},
     "output_type": "execute_result"
    }
   ],
   "source": [
    "# Check memory usage of the train dataset\n",
    "train_df.memory_usage(deep=True)"
   ]
  },
  {
   "cell_type": "code",
   "execution_count": 104,
   "metadata": {},
   "outputs": [
    {
     "data": {
      "text/plain": [
       "5.247683525085449"
      ]
     },
     "execution_count": 104,
     "metadata": {},
     "output_type": "execute_result"
    }
   ],
   "source": [
    "# Check total memory usage as megabytes\n",
    "train_df.memory_usage(deep=True).sum() / 1024**2"
   ]
  },
  {
   "cell_type": "code",
   "execution_count": 105,
   "metadata": {},
   "outputs": [
    {
     "data": {
      "text/plain": [
       "Index(['session_id', 'elapsed_time', 'event_name', 'name', 'level', 'page',\n",
       "       'room_coor_x', 'room_coor_y', 'screen_coor_x', 'screen_coor_y',\n",
       "       'hover_duration', 'text', 'fqid', 'room_fqid', 'text_fqid',\n",
       "       'fullscreen', 'hq', 'music', 'level_group'],\n",
       "      dtype='object')"
      ]
     },
     "execution_count": 105,
     "metadata": {},
     "output_type": "execute_result"
    }
   ],
   "source": [
    "# Get column names\n",
    "train_df.columns"
   ]
  },
  {
   "cell_type": "code",
   "execution_count": 106,
   "metadata": {},
   "outputs": [
    {
     "data": {
      "text/plain": [
       "session_id          int64\n",
       "elapsed_time        int64\n",
       "event_name         object\n",
       "name               object\n",
       "level               int64\n",
       "page              float64\n",
       "room_coor_x       float64\n",
       "room_coor_y       float64\n",
       "screen_coor_x     float64\n",
       "screen_coor_y     float64\n",
       "hover_duration    float64\n",
       "text               object\n",
       "fqid               object\n",
       "room_fqid          object\n",
       "text_fqid          object\n",
       "fullscreen          int64\n",
       "hq                  int64\n",
       "music               int64\n",
       "level_group        object\n",
       "dtype: object"
      ]
     },
     "execution_count": 106,
     "metadata": {},
     "output_type": "execute_result"
    }
   ],
   "source": [
    "# Check the types of the data\n",
    "train_df.dtypes"
   ]
  },
  {
   "cell_type": "code",
   "execution_count": 107,
   "metadata": {},
   "outputs": [
    {
     "data": {
      "text/plain": [
       "session_id           0\n",
       "elapsed_time         0\n",
       "event_name           0\n",
       "name                 0\n",
       "level                0\n",
       "page              9766\n",
       "room_coor_x       1015\n",
       "room_coor_y       1015\n",
       "screen_coor_x     1015\n",
       "screen_coor_y     1015\n",
       "hover_duration    9013\n",
       "text              6368\n",
       "fqid              3031\n",
       "room_fqid            0\n",
       "text_fqid         6368\n",
       "fullscreen           0\n",
       "hq                   0\n",
       "music                0\n",
       "level_group          0\n",
       "dtype: int64"
      ]
     },
     "execution_count": 107,
     "metadata": {},
     "output_type": "execute_result"
    }
   ],
   "source": [
    "# Number of nan values in each column\n",
    "train_df.isna().sum()"
   ]
  },
  {
   "cell_type": "code",
   "execution_count": 108,
   "metadata": {},
   "outputs": [
    {
     "data": {
      "text/plain": [
       "session_id          10\n",
       "elapsed_time      9980\n",
       "event_name          11\n",
       "name                 6\n",
       "level               23\n",
       "page                 7\n",
       "room_coor_x       8669\n",
       "room_coor_y       7243\n",
       "screen_coor_x     1011\n",
       "screen_coor_y      704\n",
       "hover_duration     490\n",
       "text               522\n",
       "fqid               118\n",
       "room_fqid           19\n",
       "text_fqid          104\n",
       "fullscreen           2\n",
       "hq                   2\n",
       "music                2\n",
       "level_group          3\n",
       "dtype: int64"
      ]
     },
     "execution_count": 108,
     "metadata": {},
     "output_type": "execute_result"
    }
   ],
   "source": [
    "# Number of unique values in each column\n",
    "train_df.nunique()"
   ]
  },
  {
   "attachments": {},
   "cell_type": "markdown",
   "metadata": {},
   "source": [
    "Since some columns like `fullscreen`, `hq` and `music` are binary, we can change their type to `bool` to save some memory."
   ]
  },
  {
   "cell_type": "code",
   "execution_count": 109,
   "metadata": {},
   "outputs": [],
   "source": [
    "# Change the type of `fullscreen`, `hq` and `music` column to `bool`\n",
    "train_df[\"fullscreen\"] = train_df[\"fullscreen\"].astype(\"bool\")\n",
    "train_df[\"hq\"] = train_df[\"hq\"].astype(\"bool\")\n",
    "train_df[\"music\"] = train_df[\"music\"].astype(\"bool\")"
   ]
  },
  {
   "cell_type": "code",
   "execution_count": 110,
   "metadata": {},
   "outputs": [
    {
     "data": {
      "text/plain": [
       "event_name\n",
       "navigate_click        4152\n",
       "person_click          2256\n",
       "cutscene_click        1035\n",
       "object_click           736\n",
       "map_hover              539\n",
       "object_hover           448\n",
       "notification_click     262\n",
       "notebook_click         234\n",
       "map_click              231\n",
       "observation_click       79\n",
       "checkpoint              28\n",
       "Name: count, dtype: int64"
      ]
     },
     "execution_count": 110,
     "metadata": {},
     "output_type": "execute_result"
    }
   ],
   "source": [
    "# Check the `event_name` column\n",
    "train_df[\"event_name\"].value_counts()"
   ]
  },
  {
   "attachments": {},
   "cell_type": "markdown",
   "metadata": {},
   "source": [
    "Since the `event_name` column has a few different values, we can change its type to `category` to also save memory. We can also do the same for the `name` column."
   ]
  },
  {
   "cell_type": "code",
   "execution_count": 111,
   "metadata": {},
   "outputs": [],
   "source": [
    "# Convert `event_name` and `name` columns to categorical\n",
    "train_df[\"event_name\"] = train_df[\"event_name\"].astype(\"category\")\n",
    "train_df[\"name\"] = train_df[\"name\"].astype(\"category\")"
   ]
  },
  {
   "cell_type": "code",
   "execution_count": 112,
   "metadata": {},
   "outputs": [
    {
     "data": {
      "text/plain": [
       "array([ 0,  1,  2,  3,  4,  5,  6,  7,  8,  9, 10, 11, 12, 13, 14, 15, 16,\n",
       "       17, 18, 19, 20, 21, 22])"
      ]
     },
     "execution_count": 112,
     "metadata": {},
     "output_type": "execute_result"
    }
   ],
   "source": [
    "# Check the `level` column range of values\n",
    "train_df[\"level\"].unique()"
   ]
  },
  {
   "cell_type": "code",
   "execution_count": 113,
   "metadata": {},
   "outputs": [],
   "source": [
    "# Convert `level` column to `int8` to save memory since the range of values is between 0 and 22, which is way less than 128\n",
    "train_df[\"level\"] = train_df[\"level\"].astype(\"int8\")"
   ]
  },
  {
   "cell_type": "code",
   "execution_count": 114,
   "metadata": {},
   "outputs": [
    {
     "data": {
      "text/plain": [
       "page\n",
       "6.0    57\n",
       "5.0    44\n",
       "1.0    38\n",
       "4.0    35\n",
       "0.0    31\n",
       "3.0    22\n",
       "2.0     7\n",
       "Name: count, dtype: int64"
      ]
     },
     "execution_count": 114,
     "metadata": {},
     "output_type": "execute_result"
    }
   ],
   "source": [
    "# Check the `page` column\n",
    "train_df[\"page\"].value_counts()"
   ]
  },
  {
   "cell_type": "code",
   "execution_count": 115,
   "metadata": {},
   "outputs": [],
   "source": [
    "# As with `level`, we can convert `page` to `int8` to save memory but since it contains some nan values, instead of converting it to `int8`, we will convert it to `Int8` which is a nullable integer\n",
    "train_df[\"page\"] = train_df[\"page\"].astype(\"Int8\")"
   ]
  },
  {
   "cell_type": "code",
   "execution_count": 116,
   "metadata": {},
   "outputs": [
    {
     "data": {
      "text/plain": [
       "level_group\n",
       "13-22    5573\n",
       "5-12     2904\n",
       "0-4      1523\n",
       "Name: count, dtype: int64"
      ]
     },
     "execution_count": 116,
     "metadata": {},
     "output_type": "execute_result"
    }
   ],
   "source": [
    "# Check the `level_group` column\n",
    "train_df[\"level_group\"].value_counts()"
   ]
  },
  {
   "cell_type": "code",
   "execution_count": 117,
   "metadata": {},
   "outputs": [],
   "source": [
    "# Since the `level_group` column contains only 3 unique values, we can also convert it to `category`\n",
    "level_group_cat_type = pd.CategoricalDtype(categories=[\"0-4\", \"5-12\", \"13-22\"], ordered=True)\n",
    "train_df[\"level_group\"] = train_df[\"level_group\"].astype(level_group_cat_type)"
   ]
  },
  {
   "cell_type": "code",
   "execution_count": 118,
   "metadata": {},
   "outputs": [
    {
     "data": {
      "text/plain": [
       "fqid\n",
       "worker                          661\n",
       "gramps                          451\n",
       "archivist                       421\n",
       "toentry                         307\n",
       "wells                           278\n",
       "                               ... \n",
       "reader.paper0.prev                2\n",
       "reader.paper2.prev                2\n",
       "tocloset                          2\n",
       "reader.paper1.prev                1\n",
       "journals_flag.pic_1_old.next      1\n",
       "Name: count, Length: 118, dtype: int64"
      ]
     },
     "execution_count": 118,
     "metadata": {},
     "output_type": "execute_result"
    }
   ],
   "source": [
    "# Check the `fqid` column\n",
    "train_df[\"fqid\"].value_counts()"
   ]
  },
  {
   "cell_type": "code",
   "execution_count": 119,
   "metadata": {},
   "outputs": [
    {
     "data": {
      "text/plain": [
       "room_fqid\n",
       "tunic.historicalsociety.entry              1517\n",
       "tunic.wildlife.center                      1055\n",
       "tunic.historicalsociety.cage                786\n",
       "tunic.library.frontdesk                     772\n",
       "tunic.historicalsociety.stacks              705\n",
       "tunic.historicalsociety.frontdesk           703\n",
       "tunic.historicalsociety.closet_dirty        603\n",
       "tunic.humanecology.frontdesk                499\n",
       "tunic.kohlcenter.halloffame                 479\n",
       "tunic.historicalsociety.basement            439\n",
       "tunic.drycleaner.frontdesk                  367\n",
       "tunic.historicalsociety.collection          354\n",
       "tunic.historicalsociety.closet              339\n",
       "tunic.library.microfiche                    327\n",
       "tunic.flaghouse.entry                       313\n",
       "tunic.capitol_2.hall                        274\n",
       "tunic.capitol_1.hall                        191\n",
       "tunic.historicalsociety.collection_flag     176\n",
       "tunic.capitol_0.hall                        101\n",
       "Name: count, dtype: int64"
      ]
     },
     "execution_count": 119,
     "metadata": {},
     "output_type": "execute_result"
    }
   ],
   "source": [
    "# Check the `room_fqid` column\n",
    "train_df[\"room_fqid\"].value_counts()"
   ]
  },
  {
   "cell_type": "code",
   "execution_count": 120,
   "metadata": {},
   "outputs": [
    {
     "data": {
      "text/plain": [
       "text_fqid\n",
       "tunic.historicalsociety.cage.confrontation                     212\n",
       "tunic.historicalsociety.entry.groupconvo                       184\n",
       "tunic.wildlife.center.crane_ranger.crane                       164\n",
       "tunic.historicalsociety.frontdesk.archivist.newspaper          164\n",
       "tunic.historicalsociety.frontdesk.archivist.have_glass         156\n",
       "                                                              ... \n",
       "tunic.capitol_2.hall.chap4_finale_c                              1\n",
       "tunic.capitol_1.hall.boss.writeitup                              1\n",
       "tunic.capitol_1.hall.chap2_finale_c                              1\n",
       "tunic.humanecology.frontdesk.block_0                             1\n",
       "tunic.historicalsociety.frontdesk.archivist.newspaper_recap      1\n",
       "Name: count, Length: 104, dtype: int64"
      ]
     },
     "execution_count": 120,
     "metadata": {},
     "output_type": "execute_result"
    }
   ],
   "source": [
    "# Check the `text_fqid` column\n",
    "train_df[\"text_fqid\"].value_counts()"
   ]
  },
  {
   "cell_type": "code",
   "execution_count": 121,
   "metadata": {},
   "outputs": [],
   "source": [
    "# We think that we can also convert `fquid`, `room_fqid` and `text_fqid` to `category` without losing any information\n",
    "train_df[\"fqid\"] = train_df[\"fqid\"].astype(\"category\")\n",
    "train_df[\"room_fqid\"] = train_df[\"room_fqid\"].astype(\"category\")\n",
    "train_df[\"text_fqid\"] = train_df[\"text_fqid\"].astype(\"category\")"
   ]
  },
  {
   "attachments": {},
   "cell_type": "markdown",
   "metadata": {},
   "source": [
    "Some columns like `room_coor_x`, `room_coor_y`, `screen_coor_x`, `screen_coor_y` and `hover_duration` have a float64 type but looking at the data we can see that maybe they could be converted to float32 without a loss in information."
   ]
  },
  {
   "cell_type": "code",
   "execution_count": 122,
   "metadata": {},
   "outputs": [
    {
     "data": {
      "text/plain": [
       "1234.4698376483232"
      ]
     },
     "execution_count": 122,
     "metadata": {},
     "output_type": "execute_result"
    }
   ],
   "source": [
    "# Get max value of `room_coor_x` column\n",
    "train_df[\"room_coor_x\"].max()"
   ]
  },
  {
   "cell_type": "code",
   "execution_count": 123,
   "metadata": {},
   "outputs": [
    {
     "data": {
      "text/plain": [
       "484.99533347049936"
      ]
     },
     "execution_count": 123,
     "metadata": {},
     "output_type": "execute_result"
    }
   ],
   "source": [
    "# Get max value of `room_coor_y` column\n",
    "train_df[\"room_coor_y\"].max()"
   ]
  },
  {
   "cell_type": "code",
   "execution_count": 124,
   "metadata": {},
   "outputs": [
    {
     "data": {
      "text/plain": [
       "26695.0"
      ]
     },
     "execution_count": 124,
     "metadata": {},
     "output_type": "execute_result"
    }
   ],
   "source": [
    "# Get max value of `hover_duration` column\n",
    "train_df[\"hover_duration\"].max()"
   ]
  },
  {
   "cell_type": "code",
   "execution_count": 125,
   "metadata": {},
   "outputs": [],
   "source": [
    "# Convert `room_coor_x`, `room_coor_y`, `screen_coor_x`, `screen_coor_y` and `hover_duration` to float32\n",
    "train_df[\"room_coor_x\"] = train_df[\"room_coor_x\"].astype(\"float32\")\n",
    "train_df[\"room_coor_y\"] = train_df[\"room_coor_y\"].astype(\"float32\")\n",
    "train_df[\"screen_coor_x\"] = train_df[\"screen_coor_x\"].astype(\"float32\")\n",
    "train_df[\"screen_coor_y\"] = train_df[\"screen_coor_y\"].astype(\"float32\")"
   ]
  },
  {
   "attachments": {},
   "cell_type": "markdown",
   "metadata": {},
   "source": [
    "We can also check if the `elapsed_time` column can be converted to a int32 type. We can do this by checking if the maximum value of the column."
   ]
  },
  {
   "cell_type": "code",
   "execution_count": 126,
   "metadata": {},
   "outputs": [
    {
     "data": {
      "text/plain": [
       "4208427"
      ]
     },
     "execution_count": 126,
     "metadata": {},
     "output_type": "execute_result"
    }
   ],
   "source": [
    "# Get max value of `elapsed_time` column\n",
    "train_df[\"elapsed_time\"].max()"
   ]
  },
  {
   "cell_type": "code",
   "execution_count": 127,
   "metadata": {},
   "outputs": [],
   "source": [
    "# Convert `elapsed_time` to `int32`\n",
    "train_df[\"elapsed_time\"] = train_df[\"elapsed_time\"].astype(\"int32\")"
   ]
  },
  {
   "attachments": {},
   "cell_type": "markdown",
   "metadata": {},
   "source": [
    "Finally, we can convert the `text` column to `string` type."
   ]
  },
  {
   "cell_type": "code",
   "execution_count": 128,
   "metadata": {},
   "outputs": [],
   "source": [
    "# Convert `text` column to str\n",
    "train_df[\"text\"] = train_df[\"text\"].astype(\"str\")"
   ]
  },
  {
   "cell_type": "code",
   "execution_count": 129,
   "metadata": {},
   "outputs": [
    {
     "data": {
      "text/plain": [
       "Index              80000\n",
       "session_id         80000\n",
       "elapsed_time       40000\n",
       "event_name         11068\n",
       "name               10545\n",
       "level              10000\n",
       "page               20000\n",
       "room_coor_x        40000\n",
       "room_coor_y        40000\n",
       "screen_coor_x      40000\n",
       "screen_coor_y      40000\n",
       "hover_duration     80000\n",
       "text              703822\n",
       "fqid               22548\n",
       "room_fqid          12160\n",
       "text_fqid          24655\n",
       "fullscreen         10000\n",
       "hq                 10000\n",
       "music              10000\n",
       "level_group        10291\n",
       "dtype: int64"
      ]
     },
     "execution_count": 129,
     "metadata": {},
     "output_type": "execute_result"
    }
   ],
   "source": [
    "# Check again the memory usage\n",
    "train_df.memory_usage(deep=True)"
   ]
  },
  {
   "cell_type": "code",
   "execution_count": 130,
   "metadata": {},
   "outputs": [
    {
     "data": {
      "text/plain": [
       "1.235093116760254"
      ]
     },
     "execution_count": 130,
     "metadata": {},
     "output_type": "execute_result"
    }
   ],
   "source": [
    "# Check again the total memory usage (as megabytes)\n",
    "train_df.memory_usage(deep=True).sum() / 1024**2"
   ]
  },
  {
   "cell_type": "code",
   "execution_count": 131,
   "metadata": {},
   "outputs": [
    {
     "data": {
      "text/html": [
       "<div>\n",
       "<style scoped>\n",
       "    .dataframe tbody tr th:only-of-type {\n",
       "        vertical-align: middle;\n",
       "    }\n",
       "\n",
       "    .dataframe tbody tr th {\n",
       "        vertical-align: top;\n",
       "    }\n",
       "\n",
       "    .dataframe thead th {\n",
       "        text-align: right;\n",
       "    }\n",
       "</style>\n",
       "<table border=\"1\" class=\"dataframe\">\n",
       "  <thead>\n",
       "    <tr style=\"text-align: right;\">\n",
       "      <th></th>\n",
       "      <th>session_id</th>\n",
       "      <th>elapsed_time</th>\n",
       "      <th>event_name</th>\n",
       "      <th>name</th>\n",
       "      <th>level</th>\n",
       "      <th>page</th>\n",
       "      <th>room_coor_x</th>\n",
       "      <th>room_coor_y</th>\n",
       "      <th>screen_coor_x</th>\n",
       "      <th>screen_coor_y</th>\n",
       "      <th>hover_duration</th>\n",
       "      <th>text</th>\n",
       "      <th>fqid</th>\n",
       "      <th>room_fqid</th>\n",
       "      <th>text_fqid</th>\n",
       "      <th>fullscreen</th>\n",
       "      <th>hq</th>\n",
       "      <th>music</th>\n",
       "      <th>level_group</th>\n",
       "    </tr>\n",
       "    <tr>\n",
       "      <th>index</th>\n",
       "      <th></th>\n",
       "      <th></th>\n",
       "      <th></th>\n",
       "      <th></th>\n",
       "      <th></th>\n",
       "      <th></th>\n",
       "      <th></th>\n",
       "      <th></th>\n",
       "      <th></th>\n",
       "      <th></th>\n",
       "      <th></th>\n",
       "      <th></th>\n",
       "      <th></th>\n",
       "      <th></th>\n",
       "      <th></th>\n",
       "      <th></th>\n",
       "      <th></th>\n",
       "      <th></th>\n",
       "      <th></th>\n",
       "    </tr>\n",
       "  </thead>\n",
       "  <tbody>\n",
       "    <tr>\n",
       "      <th>0</th>\n",
       "      <td>20090312431273200</td>\n",
       "      <td>0</td>\n",
       "      <td>cutscene_click</td>\n",
       "      <td>basic</td>\n",
       "      <td>0</td>\n",
       "      <td>&lt;NA&gt;</td>\n",
       "      <td>-413.991394</td>\n",
       "      <td>-159.314682</td>\n",
       "      <td>380.0</td>\n",
       "      <td>494.0</td>\n",
       "      <td>NaN</td>\n",
       "      <td>undefined</td>\n",
       "      <td>intro</td>\n",
       "      <td>tunic.historicalsociety.closet</td>\n",
       "      <td>tunic.historicalsociety.closet.intro</td>\n",
       "      <td>False</td>\n",
       "      <td>False</td>\n",
       "      <td>True</td>\n",
       "      <td>0-4</td>\n",
       "    </tr>\n",
       "    <tr>\n",
       "      <th>1</th>\n",
       "      <td>20090312431273200</td>\n",
       "      <td>1323</td>\n",
       "      <td>person_click</td>\n",
       "      <td>basic</td>\n",
       "      <td>0</td>\n",
       "      <td>&lt;NA&gt;</td>\n",
       "      <td>-413.991394</td>\n",
       "      <td>-159.314682</td>\n",
       "      <td>380.0</td>\n",
       "      <td>494.0</td>\n",
       "      <td>NaN</td>\n",
       "      <td>Whatcha doing over there, Jo?</td>\n",
       "      <td>gramps</td>\n",
       "      <td>tunic.historicalsociety.closet</td>\n",
       "      <td>tunic.historicalsociety.closet.gramps.intro_0_...</td>\n",
       "      <td>False</td>\n",
       "      <td>False</td>\n",
       "      <td>True</td>\n",
       "      <td>0-4</td>\n",
       "    </tr>\n",
       "    <tr>\n",
       "      <th>2</th>\n",
       "      <td>20090312431273200</td>\n",
       "      <td>831</td>\n",
       "      <td>person_click</td>\n",
       "      <td>basic</td>\n",
       "      <td>0</td>\n",
       "      <td>&lt;NA&gt;</td>\n",
       "      <td>-413.991394</td>\n",
       "      <td>-159.314682</td>\n",
       "      <td>380.0</td>\n",
       "      <td>494.0</td>\n",
       "      <td>NaN</td>\n",
       "      <td>Just talking to Teddy.</td>\n",
       "      <td>gramps</td>\n",
       "      <td>tunic.historicalsociety.closet</td>\n",
       "      <td>tunic.historicalsociety.closet.gramps.intro_0_...</td>\n",
       "      <td>False</td>\n",
       "      <td>False</td>\n",
       "      <td>True</td>\n",
       "      <td>0-4</td>\n",
       "    </tr>\n",
       "    <tr>\n",
       "      <th>3</th>\n",
       "      <td>20090312431273200</td>\n",
       "      <td>1147</td>\n",
       "      <td>person_click</td>\n",
       "      <td>basic</td>\n",
       "      <td>0</td>\n",
       "      <td>&lt;NA&gt;</td>\n",
       "      <td>-413.991394</td>\n",
       "      <td>-159.314682</td>\n",
       "      <td>380.0</td>\n",
       "      <td>494.0</td>\n",
       "      <td>NaN</td>\n",
       "      <td>I gotta run to my meeting!</td>\n",
       "      <td>gramps</td>\n",
       "      <td>tunic.historicalsociety.closet</td>\n",
       "      <td>tunic.historicalsociety.closet.gramps.intro_0_...</td>\n",
       "      <td>False</td>\n",
       "      <td>False</td>\n",
       "      <td>True</td>\n",
       "      <td>0-4</td>\n",
       "    </tr>\n",
       "    <tr>\n",
       "      <th>4</th>\n",
       "      <td>20090312431273200</td>\n",
       "      <td>1863</td>\n",
       "      <td>person_click</td>\n",
       "      <td>basic</td>\n",
       "      <td>0</td>\n",
       "      <td>&lt;NA&gt;</td>\n",
       "      <td>-412.991394</td>\n",
       "      <td>-159.314682</td>\n",
       "      <td>381.0</td>\n",
       "      <td>494.0</td>\n",
       "      <td>NaN</td>\n",
       "      <td>Can I come, Gramps?</td>\n",
       "      <td>gramps</td>\n",
       "      <td>tunic.historicalsociety.closet</td>\n",
       "      <td>tunic.historicalsociety.closet.gramps.intro_0_...</td>\n",
       "      <td>False</td>\n",
       "      <td>False</td>\n",
       "      <td>True</td>\n",
       "      <td>0-4</td>\n",
       "    </tr>\n",
       "  </tbody>\n",
       "</table>\n",
       "</div>"
      ],
      "text/plain": [
       "              session_id  elapsed_time      event_name   name  level  page   \n",
       "index                                                                        \n",
       "0      20090312431273200             0  cutscene_click  basic      0  <NA>  \\\n",
       "1      20090312431273200          1323    person_click  basic      0  <NA>   \n",
       "2      20090312431273200           831    person_click  basic      0  <NA>   \n",
       "3      20090312431273200          1147    person_click  basic      0  <NA>   \n",
       "4      20090312431273200          1863    person_click  basic      0  <NA>   \n",
       "\n",
       "       room_coor_x  room_coor_y  screen_coor_x  screen_coor_y  hover_duration   \n",
       "index                                                                           \n",
       "0      -413.991394  -159.314682          380.0          494.0             NaN  \\\n",
       "1      -413.991394  -159.314682          380.0          494.0             NaN   \n",
       "2      -413.991394  -159.314682          380.0          494.0             NaN   \n",
       "3      -413.991394  -159.314682          380.0          494.0             NaN   \n",
       "4      -412.991394  -159.314682          381.0          494.0             NaN   \n",
       "\n",
       "                                text    fqid                       room_fqid   \n",
       "index                                                                          \n",
       "0                          undefined   intro  tunic.historicalsociety.closet  \\\n",
       "1      Whatcha doing over there, Jo?  gramps  tunic.historicalsociety.closet   \n",
       "2             Just talking to Teddy.  gramps  tunic.historicalsociety.closet   \n",
       "3         I gotta run to my meeting!  gramps  tunic.historicalsociety.closet   \n",
       "4                Can I come, Gramps?  gramps  tunic.historicalsociety.closet   \n",
       "\n",
       "                                               text_fqid  fullscreen     hq   \n",
       "index                                                                         \n",
       "0                   tunic.historicalsociety.closet.intro       False  False  \\\n",
       "1      tunic.historicalsociety.closet.gramps.intro_0_...       False  False   \n",
       "2      tunic.historicalsociety.closet.gramps.intro_0_...       False  False   \n",
       "3      tunic.historicalsociety.closet.gramps.intro_0_...       False  False   \n",
       "4      tunic.historicalsociety.closet.gramps.intro_0_...       False  False   \n",
       "\n",
       "       music level_group  \n",
       "index                     \n",
       "0       True         0-4  \n",
       "1       True         0-4  \n",
       "2       True         0-4  \n",
       "3       True         0-4  \n",
       "4       True         0-4  "
      ]
     },
     "execution_count": 131,
     "metadata": {},
     "output_type": "execute_result"
    }
   ],
   "source": [
    "train_df.head()"
   ]
  },
  {
   "attachments": {},
   "cell_type": "markdown",
   "metadata": {},
   "source": [
    "As we can see we have reduced the memory usage drastically by just converting some columns to categorical types and other to more efficient types for the data they contain. This will allow us to load the full dataset later more efficiently and to be able to iterate faster over the data when needed.  \n",
    "\n",
    "We don't think that we can reduce much more the memory usage of the dataset, so now we'll load the full train dataset and start exploring it a bit more."
   ]
  },
  {
   "attachments": {},
   "cell_type": "markdown",
   "metadata": {},
   "source": [
    "# Data loading"
   ]
  },
  {
   "cell_type": "code",
   "execution_count": 132,
   "metadata": {},
   "outputs": [],
   "source": [
    "# Try to import full train dataset with better types\n",
    "train_df = pd.read_csv(train_csv_path, index_col=\"index\", dtype={\n",
    "    \"session_id\": \"int64\",\n",
    "    \"elapsed_time\": \"int32\",\n",
    "    \"event_name\": \"category\",\n",
    "    \"name\": \"category\",\n",
    "    \"level\": \"int8\",\n",
    "    \"page\": \"Int8\",\n",
    "    \"room_coor_x\": \"float32\",\n",
    "    \"room_coor_y\": \"float32\",\n",
    "    \"screen_coor_x\": \"float32\",\n",
    "    \"screen_coor_y\": \"float32\",\n",
    "    \"hover_duration\": \"float32\",\n",
    "    \"text\": \"str\",\n",
    "    \"fqid\": \"category\",\n",
    "    \"room_fqid\": \"category\",\n",
    "    \"text_fqid\": \"category\",\n",
    "    \"fullscreen\": \"bool\",\n",
    "    \"hq\": \"bool\",\n",
    "    \"music\": \"bool\",\n",
    "    \"level_group\": level_group_cat_type\n",
    "})"
   ]
  },
  {
   "cell_type": "code",
   "execution_count": 133,
   "metadata": {},
   "outputs": [
    {
     "data": {
      "text/plain": [
       "2649.321762084961"
      ]
     },
     "execution_count": 133,
     "metadata": {},
     "output_type": "execute_result"
    }
   ],
   "source": [
    "# Check full train dataset memory usage (as megabytes)\n",
    "train_df.memory_usage(deep=True).sum() / 1024**2"
   ]
  },
  {
   "cell_type": "code",
   "execution_count": 134,
   "metadata": {},
   "outputs": [
    {
     "data": {
      "text/html": [
       "<div>\n",
       "<style scoped>\n",
       "    .dataframe tbody tr th:only-of-type {\n",
       "        vertical-align: middle;\n",
       "    }\n",
       "\n",
       "    .dataframe tbody tr th {\n",
       "        vertical-align: top;\n",
       "    }\n",
       "\n",
       "    .dataframe thead th {\n",
       "        text-align: right;\n",
       "    }\n",
       "</style>\n",
       "<table border=\"1\" class=\"dataframe\">\n",
       "  <thead>\n",
       "    <tr style=\"text-align: right;\">\n",
       "      <th></th>\n",
       "      <th>session_id</th>\n",
       "      <th>elapsed_time</th>\n",
       "      <th>event_name</th>\n",
       "      <th>name</th>\n",
       "      <th>level</th>\n",
       "      <th>page</th>\n",
       "      <th>room_coor_x</th>\n",
       "      <th>room_coor_y</th>\n",
       "      <th>screen_coor_x</th>\n",
       "      <th>screen_coor_y</th>\n",
       "      <th>hover_duration</th>\n",
       "      <th>text</th>\n",
       "      <th>fqid</th>\n",
       "      <th>room_fqid</th>\n",
       "      <th>text_fqid</th>\n",
       "      <th>fullscreen</th>\n",
       "      <th>hq</th>\n",
       "      <th>music</th>\n",
       "      <th>level_group</th>\n",
       "    </tr>\n",
       "    <tr>\n",
       "      <th>index</th>\n",
       "      <th></th>\n",
       "      <th></th>\n",
       "      <th></th>\n",
       "      <th></th>\n",
       "      <th></th>\n",
       "      <th></th>\n",
       "      <th></th>\n",
       "      <th></th>\n",
       "      <th></th>\n",
       "      <th></th>\n",
       "      <th></th>\n",
       "      <th></th>\n",
       "      <th></th>\n",
       "      <th></th>\n",
       "      <th></th>\n",
       "      <th></th>\n",
       "      <th></th>\n",
       "      <th></th>\n",
       "      <th></th>\n",
       "    </tr>\n",
       "  </thead>\n",
       "  <tbody>\n",
       "    <tr>\n",
       "      <th>0</th>\n",
       "      <td>20090312431273200</td>\n",
       "      <td>0</td>\n",
       "      <td>cutscene_click</td>\n",
       "      <td>basic</td>\n",
       "      <td>0</td>\n",
       "      <td>&lt;NA&gt;</td>\n",
       "      <td>-413.991394</td>\n",
       "      <td>-159.314682</td>\n",
       "      <td>380.0</td>\n",
       "      <td>494.0</td>\n",
       "      <td>NaN</td>\n",
       "      <td>undefined</td>\n",
       "      <td>intro</td>\n",
       "      <td>tunic.historicalsociety.closet</td>\n",
       "      <td>tunic.historicalsociety.closet.intro</td>\n",
       "      <td>False</td>\n",
       "      <td>False</td>\n",
       "      <td>True</td>\n",
       "      <td>0-4</td>\n",
       "    </tr>\n",
       "    <tr>\n",
       "      <th>1</th>\n",
       "      <td>20090312431273200</td>\n",
       "      <td>1323</td>\n",
       "      <td>person_click</td>\n",
       "      <td>basic</td>\n",
       "      <td>0</td>\n",
       "      <td>&lt;NA&gt;</td>\n",
       "      <td>-413.991394</td>\n",
       "      <td>-159.314682</td>\n",
       "      <td>380.0</td>\n",
       "      <td>494.0</td>\n",
       "      <td>NaN</td>\n",
       "      <td>Whatcha doing over there, Jo?</td>\n",
       "      <td>gramps</td>\n",
       "      <td>tunic.historicalsociety.closet</td>\n",
       "      <td>tunic.historicalsociety.closet.gramps.intro_0_...</td>\n",
       "      <td>False</td>\n",
       "      <td>False</td>\n",
       "      <td>True</td>\n",
       "      <td>0-4</td>\n",
       "    </tr>\n",
       "    <tr>\n",
       "      <th>2</th>\n",
       "      <td>20090312431273200</td>\n",
       "      <td>831</td>\n",
       "      <td>person_click</td>\n",
       "      <td>basic</td>\n",
       "      <td>0</td>\n",
       "      <td>&lt;NA&gt;</td>\n",
       "      <td>-413.991394</td>\n",
       "      <td>-159.314682</td>\n",
       "      <td>380.0</td>\n",
       "      <td>494.0</td>\n",
       "      <td>NaN</td>\n",
       "      <td>Just talking to Teddy.</td>\n",
       "      <td>gramps</td>\n",
       "      <td>tunic.historicalsociety.closet</td>\n",
       "      <td>tunic.historicalsociety.closet.gramps.intro_0_...</td>\n",
       "      <td>False</td>\n",
       "      <td>False</td>\n",
       "      <td>True</td>\n",
       "      <td>0-4</td>\n",
       "    </tr>\n",
       "    <tr>\n",
       "      <th>3</th>\n",
       "      <td>20090312431273200</td>\n",
       "      <td>1147</td>\n",
       "      <td>person_click</td>\n",
       "      <td>basic</td>\n",
       "      <td>0</td>\n",
       "      <td>&lt;NA&gt;</td>\n",
       "      <td>-413.991394</td>\n",
       "      <td>-159.314682</td>\n",
       "      <td>380.0</td>\n",
       "      <td>494.0</td>\n",
       "      <td>NaN</td>\n",
       "      <td>I gotta run to my meeting!</td>\n",
       "      <td>gramps</td>\n",
       "      <td>tunic.historicalsociety.closet</td>\n",
       "      <td>tunic.historicalsociety.closet.gramps.intro_0_...</td>\n",
       "      <td>False</td>\n",
       "      <td>False</td>\n",
       "      <td>True</td>\n",
       "      <td>0-4</td>\n",
       "    </tr>\n",
       "    <tr>\n",
       "      <th>4</th>\n",
       "      <td>20090312431273200</td>\n",
       "      <td>1863</td>\n",
       "      <td>person_click</td>\n",
       "      <td>basic</td>\n",
       "      <td>0</td>\n",
       "      <td>&lt;NA&gt;</td>\n",
       "      <td>-412.991394</td>\n",
       "      <td>-159.314682</td>\n",
       "      <td>381.0</td>\n",
       "      <td>494.0</td>\n",
       "      <td>NaN</td>\n",
       "      <td>Can I come, Gramps?</td>\n",
       "      <td>gramps</td>\n",
       "      <td>tunic.historicalsociety.closet</td>\n",
       "      <td>tunic.historicalsociety.closet.gramps.intro_0_...</td>\n",
       "      <td>False</td>\n",
       "      <td>False</td>\n",
       "      <td>True</td>\n",
       "      <td>0-4</td>\n",
       "    </tr>\n",
       "  </tbody>\n",
       "</table>\n",
       "</div>"
      ],
      "text/plain": [
       "              session_id  elapsed_time      event_name   name  level  page   \n",
       "index                                                                        \n",
       "0      20090312431273200             0  cutscene_click  basic      0  <NA>  \\\n",
       "1      20090312431273200          1323    person_click  basic      0  <NA>   \n",
       "2      20090312431273200           831    person_click  basic      0  <NA>   \n",
       "3      20090312431273200          1147    person_click  basic      0  <NA>   \n",
       "4      20090312431273200          1863    person_click  basic      0  <NA>   \n",
       "\n",
       "       room_coor_x  room_coor_y  screen_coor_x  screen_coor_y  hover_duration   \n",
       "index                                                                           \n",
       "0      -413.991394  -159.314682          380.0          494.0             NaN  \\\n",
       "1      -413.991394  -159.314682          380.0          494.0             NaN   \n",
       "2      -413.991394  -159.314682          380.0          494.0             NaN   \n",
       "3      -413.991394  -159.314682          380.0          494.0             NaN   \n",
       "4      -412.991394  -159.314682          381.0          494.0             NaN   \n",
       "\n",
       "                                text    fqid                       room_fqid   \n",
       "index                                                                          \n",
       "0                          undefined   intro  tunic.historicalsociety.closet  \\\n",
       "1      Whatcha doing over there, Jo?  gramps  tunic.historicalsociety.closet   \n",
       "2             Just talking to Teddy.  gramps  tunic.historicalsociety.closet   \n",
       "3         I gotta run to my meeting!  gramps  tunic.historicalsociety.closet   \n",
       "4                Can I come, Gramps?  gramps  tunic.historicalsociety.closet   \n",
       "\n",
       "                                               text_fqid  fullscreen     hq   \n",
       "index                                                                         \n",
       "0                   tunic.historicalsociety.closet.intro       False  False  \\\n",
       "1      tunic.historicalsociety.closet.gramps.intro_0_...       False  False   \n",
       "2      tunic.historicalsociety.closet.gramps.intro_0_...       False  False   \n",
       "3      tunic.historicalsociety.closet.gramps.intro_0_...       False  False   \n",
       "4      tunic.historicalsociety.closet.gramps.intro_0_...       False  False   \n",
       "\n",
       "       music level_group  \n",
       "index                     \n",
       "0       True         0-4  \n",
       "1       True         0-4  \n",
       "2       True         0-4  \n",
       "3       True         0-4  \n",
       "4       True         0-4  "
      ]
     },
     "execution_count": 134,
     "metadata": {},
     "output_type": "execute_result"
    }
   ],
   "source": [
    "train_df.head()"
   ]
  },
  {
   "attachments": {},
   "cell_type": "markdown",
   "metadata": {},
   "source": [
    "The other important dataset is the labels dataset. We'll load it and see how it relates to the train dataset."
   ]
  },
  {
   "cell_type": "code",
   "execution_count": 135,
   "metadata": {},
   "outputs": [],
   "source": [
    "# Load train labels dataset\n",
    "labels_df = pd.read_csv(train_labels_csv)"
   ]
  },
  {
   "cell_type": "code",
   "execution_count": 136,
   "metadata": {},
   "outputs": [
    {
     "data": {
      "text/html": [
       "<div>\n",
       "<style scoped>\n",
       "    .dataframe tbody tr th:only-of-type {\n",
       "        vertical-align: middle;\n",
       "    }\n",
       "\n",
       "    .dataframe tbody tr th {\n",
       "        vertical-align: top;\n",
       "    }\n",
       "\n",
       "    .dataframe thead th {\n",
       "        text-align: right;\n",
       "    }\n",
       "</style>\n",
       "<table border=\"1\" class=\"dataframe\">\n",
       "  <thead>\n",
       "    <tr style=\"text-align: right;\">\n",
       "      <th></th>\n",
       "      <th>session_id</th>\n",
       "      <th>correct</th>\n",
       "    </tr>\n",
       "  </thead>\n",
       "  <tbody>\n",
       "    <tr>\n",
       "      <th>0</th>\n",
       "      <td>20090312431273200_q1</td>\n",
       "      <td>1</td>\n",
       "    </tr>\n",
       "    <tr>\n",
       "      <th>1</th>\n",
       "      <td>20090312433251036_q1</td>\n",
       "      <td>0</td>\n",
       "    </tr>\n",
       "    <tr>\n",
       "      <th>2</th>\n",
       "      <td>20090312455206810_q1</td>\n",
       "      <td>1</td>\n",
       "    </tr>\n",
       "    <tr>\n",
       "      <th>3</th>\n",
       "      <td>20090313091715820_q1</td>\n",
       "      <td>0</td>\n",
       "    </tr>\n",
       "    <tr>\n",
       "      <th>4</th>\n",
       "      <td>20090313571836404_q1</td>\n",
       "      <td>1</td>\n",
       "    </tr>\n",
       "  </tbody>\n",
       "</table>\n",
       "</div>"
      ],
      "text/plain": [
       "             session_id  correct\n",
       "0  20090312431273200_q1        1\n",
       "1  20090312433251036_q1        0\n",
       "2  20090312455206810_q1        1\n",
       "3  20090313091715820_q1        0\n",
       "4  20090313571836404_q1        1"
      ]
     },
     "execution_count": 136,
     "metadata": {},
     "output_type": "execute_result"
    }
   ],
   "source": [
    "labels_df.head()"
   ]
  },
  {
   "attachments": {},
   "cell_type": "markdown",
   "metadata": {},
   "source": [
    "We can see how the labels have a `session_id` column that contains the session id and the question number. We'll extract this information and create a new column with the question number."
   ]
  },
  {
   "cell_type": "code",
   "execution_count": 137,
   "metadata": {},
   "outputs": [],
   "source": [
    "# Split `session_id` column to get question number\n",
    "labels_df[[\"session_id\", \"question_number\"]] = labels_df[\"session_id\"].str.split(\"_\", expand=True)"
   ]
  },
  {
   "cell_type": "code",
   "execution_count": 138,
   "metadata": {},
   "outputs": [
    {
     "data": {
      "text/html": [
       "<div>\n",
       "<style scoped>\n",
       "    .dataframe tbody tr th:only-of-type {\n",
       "        vertical-align: middle;\n",
       "    }\n",
       "\n",
       "    .dataframe tbody tr th {\n",
       "        vertical-align: top;\n",
       "    }\n",
       "\n",
       "    .dataframe thead th {\n",
       "        text-align: right;\n",
       "    }\n",
       "</style>\n",
       "<table border=\"1\" class=\"dataframe\">\n",
       "  <thead>\n",
       "    <tr style=\"text-align: right;\">\n",
       "      <th></th>\n",
       "      <th>session_id</th>\n",
       "      <th>correct</th>\n",
       "      <th>question_number</th>\n",
       "    </tr>\n",
       "  </thead>\n",
       "  <tbody>\n",
       "    <tr>\n",
       "      <th>0</th>\n",
       "      <td>20090312431273200</td>\n",
       "      <td>1</td>\n",
       "      <td>q1</td>\n",
       "    </tr>\n",
       "    <tr>\n",
       "      <th>1</th>\n",
       "      <td>20090312433251036</td>\n",
       "      <td>0</td>\n",
       "      <td>q1</td>\n",
       "    </tr>\n",
       "    <tr>\n",
       "      <th>2</th>\n",
       "      <td>20090312455206810</td>\n",
       "      <td>1</td>\n",
       "      <td>q1</td>\n",
       "    </tr>\n",
       "    <tr>\n",
       "      <th>3</th>\n",
       "      <td>20090313091715820</td>\n",
       "      <td>0</td>\n",
       "      <td>q1</td>\n",
       "    </tr>\n",
       "    <tr>\n",
       "      <th>4</th>\n",
       "      <td>20090313571836404</td>\n",
       "      <td>1</td>\n",
       "      <td>q1</td>\n",
       "    </tr>\n",
       "  </tbody>\n",
       "</table>\n",
       "</div>"
      ],
      "text/plain": [
       "          session_id  correct question_number\n",
       "0  20090312431273200        1              q1\n",
       "1  20090312433251036        0              q1\n",
       "2  20090312455206810        1              q1\n",
       "3  20090313091715820        0              q1\n",
       "4  20090313571836404        1              q1"
      ]
     },
     "execution_count": 138,
     "metadata": {},
     "output_type": "execute_result"
    }
   ],
   "source": [
    "labels_df.head()"
   ]
  },
  {
   "cell_type": "code",
   "execution_count": 139,
   "metadata": {},
   "outputs": [
    {
     "data": {
      "text/plain": [
       "question_number\n",
       "q1     23562\n",
       "q2     23562\n",
       "q17    23562\n",
       "q16    23562\n",
       "q15    23562\n",
       "q14    23562\n",
       "q13    23562\n",
       "q12    23562\n",
       "q11    23562\n",
       "q10    23562\n",
       "q9     23562\n",
       "q8     23562\n",
       "q7     23562\n",
       "q6     23562\n",
       "q5     23562\n",
       "q4     23562\n",
       "q3     23562\n",
       "q18    23562\n",
       "Name: count, dtype: int64"
      ]
     },
     "execution_count": 139,
     "metadata": {},
     "output_type": "execute_result"
    }
   ],
   "source": [
    "# Check the `question_number` column\n",
    "labels_df[\"question_number\"].value_counts()"
   ]
  },
  {
   "cell_type": "code",
   "execution_count": 140,
   "metadata": {},
   "outputs": [],
   "source": [
    "# Extract question number from `question_number` column and convert it to `int8`\n",
    "labels_df[\"question_number\"] = labels_df[\"question_number\"].str.extract(\"(\\d+)\").astype(\"int8\")"
   ]
  },
  {
   "cell_type": "code",
   "execution_count": 141,
   "metadata": {},
   "outputs": [],
   "source": [
    "# Convert `correct` and `question_number` columns to bool and category respectively\n",
    "labels_df[\"correct\"] = labels_df[\"correct\"].astype(\"bool\")"
   ]
  },
  {
   "attachments": {},
   "cell_type": "markdown",
   "metadata": {},
   "source": [
    "# EDA"
   ]
  },
  {
   "cell_type": "code",
   "execution_count": 144,
   "metadata": {},
   "outputs": [],
   "source": [
    "# Setup seaborn style\n",
    "sns.set_style(\"whitegrid\")"
   ]
  },
  {
   "cell_type": "code",
   "execution_count": 145,
   "metadata": {},
   "outputs": [
    {
     "data": {
      "text/plain": [
       "session_id               0\n",
       "elapsed_time             0\n",
       "event_name               0\n",
       "name                     0\n",
       "level                    0\n",
       "page              25732402\n",
       "room_coor_x        2073272\n",
       "room_coor_y        2073272\n",
       "screen_coor_x      2073272\n",
       "screen_coor_y      2073272\n",
       "hover_duration    24294702\n",
       "text              16679807\n",
       "fqid               8274415\n",
       "room_fqid                0\n",
       "text_fqid         16679702\n",
       "fullscreen               0\n",
       "hq                       0\n",
       "music                    0\n",
       "level_group              0\n",
       "dtype: int64"
      ]
     },
     "execution_count": 145,
     "metadata": {},
     "output_type": "execute_result"
    }
   ],
   "source": [
    "# Check number of nan values in each column\n",
    "train_df.isna().sum()"
   ]
  },
  {
   "cell_type": "code",
   "execution_count": 146,
   "metadata": {},
   "outputs": [
    {
     "data": {
      "text/plain": [
       "(array([ 0,  1,  2,  3,  4,  5,  6,  7,  8,  9, 10, 11, 12, 13, 14, 15, 16,\n",
       "        17, 18]),\n",
       " [Text(0, 0, 'page'),\n",
       "  Text(1, 0, 'hover_duration'),\n",
       "  Text(2, 0, 'text'),\n",
       "  Text(3, 0, 'text_fqid'),\n",
       "  Text(4, 0, 'fqid'),\n",
       "  Text(5, 0, 'screen_coor_y'),\n",
       "  Text(6, 0, 'room_coor_x'),\n",
       "  Text(7, 0, 'room_coor_y'),\n",
       "  Text(8, 0, 'screen_coor_x'),\n",
       "  Text(9, 0, 'room_fqid'),\n",
       "  Text(10, 0, 'music'),\n",
       "  Text(11, 0, 'hq'),\n",
       "  Text(12, 0, 'fullscreen'),\n",
       "  Text(13, 0, 'session_id'),\n",
       "  Text(14, 0, 'elapsed_time'),\n",
       "  Text(15, 0, 'level'),\n",
       "  Text(16, 0, 'name'),\n",
       "  Text(17, 0, 'event_name'),\n",
       "  Text(18, 0, 'level_group')])"
      ]
     },
     "execution_count": 146,
     "metadata": {},
     "output_type": "execute_result"
    },
    {
     "data": {
      "image/png": "[encoded data removed]",
      "text/plain": [
       "<Figure size 1200x800 with 1 Axes>"
      ]
     },
     "metadata": {},
     "output_type": "display_data"
    }
   ],
   "source": [
    "# Plot frequency of nan values in each column\n",
    "plt.figure(figsize=(12, 8))\n",
    "\n",
    "sns.barplot(\n",
    "    x=train_df.isna().sum().index,\n",
    "    y=train_df.isna().sum().values,\n",
    "    order=train_df.isna().sum().sort_values(ascending=False).index,\n",
    "    palette=\"mako\"\n",
    ")\n",
    "\n",
    "plt.xticks(rotation=90)"
   ]
  },
  {
   "attachments": {},
   "cell_type": "markdown",
   "metadata": {},
   "source": [
    "As we can see, some columns like `page`, `hover_duration`, `text` and `text_fquid` have a lot of missing values. We'll see later how to deal with this and if this is a problem or not for the model."
   ]
  },
  {
   "cell_type": "code",
   "execution_count": 147,
   "metadata": {},
   "outputs": [
    {
     "data": {
      "text/plain": [
       "Text(0.5, 1.0, 'Number of correct answers per question number')"
      ]
     },
     "execution_count": 147,
     "metadata": {},
     "output_type": "execute_result"
    },
    {
     "data": {
      "image/png": "[encoded data removed]",
      "text/plain": [
       "<Figure size 1200x800 with 1 Axes>"
      ]
     },
     "metadata": {},
     "output_type": "display_data"
    }
   ],
   "source": [
    "# Plot number of correct answers per question\n",
    "plt.figure(figsize=(12, 8))\n",
    "\n",
    "sns.countplot(\n",
    "    x=\"question_number\",\n",
    "    hue=\"correct\",\n",
    "    data=labels_df,\n",
    "    palette=\"mako\"\n",
    ")\n",
    "\n",
    "plt.xlabel(\"Question number\")\n",
    "plt.ylabel(\"Answers\")\n",
    "\n",
    "plt.title(\"Number of correct answers per question number\")"
   ]
  },
  {
   "attachments": {},
   "cell_type": "markdown",
   "metadata": {},
   "source": [
    "We can observe that some questions, ushc as 2, 3 and 18 have a higher number of correct answers, indicating that these questions maybe were relatively easier. On the other hand, questions 13 and 15 have a higher number of incorrect answers, indicating that these questions maybe were more challenging."
   ]
  },
  {
   "cell_type": "code",
   "execution_count": 148,
   "metadata": {},
   "outputs": [
    {
     "data": {
      "text/plain": [
       "(500.0, 2500.0)"
      ]
     },
     "execution_count": 148,
     "metadata": {},
     "output_type": "execute_result"
    },
    {
     "data": {
      "image/png": "[encoded data removed]",
      "text/plain": [
       "<Figure size 1200x800 with 1 Axes>"
      ]
     },
     "metadata": {},
     "output_type": "display_data"
    }
   ],
   "source": [
    "# Plot number of events by session\n",
    "plt.figure(figsize=(12, 8))\n",
    "\n",
    "sns.histplot(\n",
    "    x=train_df[\"session_id\"].value_counts(),\n",
    "    data=train_df,\n",
    "    kde=True,\n",
    "    color=sns.color_palette(\"mako\")[0],\n",
    ")\n",
    "\n",
    "plt.xlabel(\"Number of events per session\")\n",
    "plt.ylabel(\"Events\")\n",
    "plt.xlim(500, 2500)\n"
   ]
  },
  {
   "cell_type": "code",
   "execution_count": 149,
   "metadata": {},
   "outputs": [
    {
     "data": {
      "text/plain": [
       "1116.0744418979714"
      ]
     },
     "execution_count": 149,
     "metadata": {},
     "output_type": "execute_result"
    }
   ],
   "source": [
    "# Average number of events per session\n",
    "train_df[\"session_id\"].value_counts().mean()"
   ]
  },
  {
   "cell_type": "code",
   "execution_count": 150,
   "metadata": {},
   "outputs": [
    {
     "data": {
      "text/plain": [
       "session_id\n",
       "20090312431273200      9282.349917\n",
       "20090312433251036     57896.157883\n",
       "20090312455206810      8390.254900\n",
       "20090313091715820     13388.543383\n",
       "20090313571836404      7741.139200\n",
       "                         ...      \n",
       "22100215342220508    132394.973233\n",
       "22100215460321130     18117.862167\n",
       "22100217104993650     21332.451567\n",
       "22100219442786200      8820.977583\n",
       "22100221145014656     82537.700100\n",
       "Name: elapsed_time, Length: 23562, dtype: float64"
      ]
     },
     "execution_count": 150,
     "metadata": {},
     "output_type": "execute_result"
    }
   ],
   "source": [
    "# Total time spent by each user using elapsed time column (in minutes)\n",
    "elapsed_time_min = train_df.groupby(\"session_id\")[\"elapsed_time\"].sum() / 60_000\n",
    "elapsed_time_min"
   ]
  },
  {
   "cell_type": "code",
   "execution_count": 151,
   "metadata": {},
   "outputs": [
    {
     "data": {
      "text/plain": [
       "32705279.8279"
      ]
     },
     "execution_count": 151,
     "metadata": {},
     "output_type": "execute_result"
    }
   ],
   "source": [
    "# Max time spent by an user\n",
    "elapsed_time_min.max()"
   ]
  },
  {
   "cell_type": "code",
   "execution_count": 152,
   "metadata": {},
   "outputs": [
    {
     "data": {
      "text/plain": [
       "6.451966666666666"
      ]
     },
     "execution_count": 152,
     "metadata": {},
     "output_type": "execute_result"
    }
   ],
   "source": [
    "# Min time spent by an user\n",
    "elapsed_time_min.min()"
   ]
  },
  {
   "cell_type": "code",
   "execution_count": 153,
   "metadata": {},
   "outputs": [
    {
     "data": {
      "text/plain": [
       "74715.48994760065"
      ]
     },
     "execution_count": 153,
     "metadata": {},
     "output_type": "execute_result"
    }
   ],
   "source": [
    "# Average time spent by an user\n",
    "elapsed_time_min.mean()"
   ]
  },
  {
   "attachments": {},
   "cell_type": "markdown",
   "metadata": {},
   "source": [
    "As we can see above, the maximum time spent by an user is 17805.075148065844 minutes, which is around 12.36 days. This is a very long time and it will be interesting to check the correlation between an user's session duration and the performance in the test. The minimum time spent is 0.008986 minutes. The average time spent is 62.514 minutes, which is a little more than an hour."
   ]
  },
  {
   "cell_type": "code",
   "execution_count": 154,
   "metadata": {},
   "outputs": [
    {
     "data": {
      "text/plain": [
       "<Axes: xlabel='count', ylabel='event_name'>"
      ]
     },
     "execution_count": 154,
     "metadata": {},
     "output_type": "execute_result"
    },
    {
     "data": {
      "image/png": "[encoded data removed]",
      "text/plain": [
       "<Figure size 1200x800 with 1 Axes>"
      ]
     },
     "metadata": {},
     "output_type": "display_data"
    }
   ],
   "source": [
    "# Plot frequency of events\n",
    "plt.figure(figsize=(12, 8))\n",
    "\n",
    "sns.countplot(\n",
    "    y=\"event_name\",\n",
    "    data=train_df,\n",
    "    order=train_df[\"event_name\"].value_counts().index,\n",
    "    palette=\"mako\"\n",
    ")"
   ]
  },
  {
   "cell_type": "code",
   "execution_count": 155,
   "metadata": {},
   "outputs": [
    {
     "data": {
      "text/plain": [
       "level_group\n",
       "0-4       3981005\n",
       "5-12      8844238\n",
       "13-22    13471703\n",
       "Name: count, dtype: int64"
      ]
     },
     "execution_count": 155,
     "metadata": {},
     "output_type": "execute_result"
    }
   ],
   "source": [
    "# Number of events per level_group\n",
    "counts = train_df[\"level_group\"].value_counts().sort_index()\n",
    "counts"
   ]
  },
  {
   "cell_type": "code",
   "execution_count": 156,
   "metadata": {},
   "outputs": [
    {
     "data": {
      "text/plain": [
       "([<matplotlib.axis.YTick at 0x7f59a1c96150>,\n",
       "  <matplotlib.axis.YTick at 0x7f59a1c9ec90>,\n",
       "  <matplotlib.axis.YTick at 0x7f59a1d52250>],\n",
       " [Text(0, 3981005, '3981005'),\n",
       "  Text(0, 8844238, '8844238'),\n",
       "  Text(0, 13471703, '13471703')])"
      ]
     },
     "execution_count": 156,
     "metadata": {},
     "output_type": "execute_result"
    },
    {
     "data": {
      "image/png": "[encoded data removed]",
      "text/plain": [
       "<Figure size 1200x800 with 1 Axes>"
      ]
     },
     "metadata": {},
     "output_type": "display_data"
    }
   ],
   "source": [
    "# Plot number of events per level_group\n",
    "plt.figure(figsize=(12, 8))\n",
    "\n",
    "sns.barplot(\n",
    "    x=counts.index,\n",
    "    y=counts.values,\n",
    "    palette=\"mako\"\n",
    ")\n",
    "\n",
    "plt.yticks(counts.values, counts.values)"
   ]
  },
  {
   "cell_type": "code",
   "execution_count": 157,
   "metadata": {},
   "outputs": [
    {
     "data": {
      "text/plain": [
       "level\n",
       "0      688992\n",
       "1      726590\n",
       "2      992615\n",
       "3     1144768\n",
       "4      428040\n",
       "5      668188\n",
       "6     2117796\n",
       "7     1278207\n",
       "8      888584\n",
       "9     1137748\n",
       "10     449139\n",
       "11    1937208\n",
       "12     367368\n",
       "13     823875\n",
       "14     550829\n",
       "15    1219497\n",
       "16    1295082\n",
       "17    1207881\n",
       "18    3499163\n",
       "19    1217088\n",
       "20    1129246\n",
       "21    2110010\n",
       "22     419032\n",
       "Name: count, dtype: int64"
      ]
     },
     "execution_count": 157,
     "metadata": {},
     "output_type": "execute_result"
    }
   ],
   "source": [
    "# Number of events per level\n",
    "counts = train_df[\"level\"].value_counts().sort_index()\n",
    "counts"
   ]
  },
  {
   "cell_type": "code",
   "execution_count": 158,
   "metadata": {},
   "outputs": [
    {
     "data": {
      "text/plain": [
       "<Axes: xlabel='level'>"
      ]
     },
     "execution_count": 158,
     "metadata": {},
     "output_type": "execute_result"
    },
    {
     "data": {
      "image/png": "[encoded data removed]",
      "text/plain": [
       "<Figure size 1200x800 with 1 Axes>"
      ]
     },
     "metadata": {},
     "output_type": "display_data"
    }
   ],
   "source": [
    "# Plot number of events per level\n",
    "plt.figure(figsize=(12, 8))\n",
    "\n",
    "sns.barplot(\n",
    "    x=counts.index,\n",
    "    y=counts.values,\n",
    "    palette=\"mako\",\n",
    ")"
   ]
  }
 ],
 "metadata": {
  "kernelspec": {
   "display_name": ".venv",
   "language": "python",
   "name": "python3"
  },
  "language_info": {
   "codemirror_mode": {
    "name": "ipython",
    "version": 3
   },
   "file_extension": ".py",
   "mimetype": "text/x-python",
   "name": "python",
   "nbconvert_exporter": "python",
   "pygments_lexer": "ipython3",
   "version": "3.11.2"
  },
  "orig_nbformat": 4
 },
 "nbformat": 4,
 "nbformat_minor": 2
}
